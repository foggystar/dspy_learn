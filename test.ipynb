{
 "cells": [
  {
   "cell_type": "code",
   "execution_count": 1,
   "metadata": {},
   "outputs": [
    {
     "name": "stderr",
     "output_type": "stream",
     "text": [
      "/home/shuhe/projects/dspy_learn/.venv/lib/python3.12/site-packages/tqdm/auto.py:21: TqdmWarning: IProgress not found. Please update jupyter and ipywidgets. See https://ipywidgets.readthedocs.io/en/stable/user_install.html\n",
      "  from .autonotebook import tqdm as notebook_tqdm\n"
     ]
    },
    {
     "name": "stdout",
     "output_type": "stream",
     "text": [
      "1\n"
     ]
    }
   ],
   "source": [
    "import dspy\n",
    "import os"
   ]
  },
  {
   "cell_type": "code",
   "execution_count": 4,
   "metadata": {},
   "outputs": [],
   "source": [
    "API_Key = os.getenv('DEEPSEEK_API_KEY')\n",
    "lm = dspy.LM('deepseek-chat', api_base='https://api.deepseek.com/v1', api_key=API_Key)\n",
    "dspy.configure(lm=lm)"
   ]
  },
  {
   "cell_type": "code",
   "execution_count": 8,
   "metadata": {},
   "outputs": [
    {
     "name": "stdout",
     "output_type": "stream",
     "text": [
      "[\"I'm good at a variety of tasks that involve processing and generating text-based information. Here are some of my strengths:\\n\\n1. **Answering Questions**: I can provide detailed explanations on a wide range of topics, from science and history to technology and pop culture.\\n2. **Writing and Editing**: I can help with writing essays, articles, or creative content, and I can also proofread and edit text.\\n3. **Learning Assistance**: I can assist with learning by explaining complex concepts, solving problems, or providing study tips.\\n4. **Language Translation**: While not perfect, I can translate text between multiple languages.\\n5. **Generating Creative Content**: I can help brainstorm ideas, write stories, poems, or even generate dialogue for scripts.\\n6. **Providing Recommendations**: Whether it's books, movies, or productivity tools, I can suggest options based on given preferences.\\n7. **Summarizing Information**: I can condense long articles, documents, or ideas into concise summaries.\\n8. **Coding Help**: I can assist with programming-related questions, debugging, or explaining coding concepts.\\n9. **General Advice**: I can offer guidance on topics like productivity, self-improvement, or decision-making (though I’m not a substitute for professional advice).\\n\\nLet me know how I can assist you!\"]\n"
     ]
    }
   ],
   "source": [
    "print(lm(\"what are you good at\", temperature=2.0))  # => ['This is a test!']"
   ]
  },
  {
   "cell_type": "code",
   "execution_count": null,
   "metadata": {},
   "outputs": [
    {
     "data": {
      "text/plain": [
       "Prediction(\n",
       "    reasoning='To determine the probability that the sum of two dice equals two, we need to consider the total number of possible outcomes when two dice are tossed and the number of favorable outcomes where the sum is two. \\n\\n1. **Total number of possible outcomes**: Each die has 6 faces, so when two dice are tossed, the total number of possible outcomes is \\\\(6 \\\\times 6 = 36\\\\).\\n\\n2. **Number of favorable outcomes**: The only combination that results in a sum of two is when both dice show a 1. Therefore, there is only 1 favorable outcome.\\n\\n3. **Probability calculation**: The probability \\\\(P\\\\) of an event is given by the ratio of the number of favorable outcomes to the total number of possible outcomes. Thus, \\\\(P = \\\\frac{\\\\text{Number of favorable outcomes}}{\\\\text{Total number of possible outcomes}} = \\\\frac{1}{36}\\\\).',\n",
       "    query='SELECT 1.0 / 36 AS probability;'\n",
       ")"
      ]
     },
     "execution_count": 10,
     "metadata": {},
     "output_type": "execute_result"
    }
   ],
   "source": [
    "math = dspy.ChainOfThought(\"question -> query\")\n",
    "math(question=\"Two dice are tossed. What is the probability that the sum equals two?\")"
   ]
  }
 ],
 "metadata": {
  "kernelspec": {
   "display_name": ".venv",
   "language": "python",
   "name": "python3"
  },
  "language_info": {
   "codemirror_mode": {
    "name": "ipython",
    "version": 3
   },
   "file_extension": ".py",
   "mimetype": "text/x-python",
   "name": "python",
   "nbconvert_exporter": "python",
   "pygments_lexer": "ipython3",
   "version": "3.12.8"
  }
 },
 "nbformat": 4,
 "nbformat_minor": 2
}
